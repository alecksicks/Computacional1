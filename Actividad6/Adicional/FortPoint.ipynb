{
 "cells": [
  {
   "cell_type": "code",
   "execution_count": 1,
   "metadata": {
    "collapsed": true
   },
   "outputs": [],
   "source": [
    "#Se importaron las librearías necesarias\n",
    "import pandas as pd\n",
    "import numpy as np\n",
    "import matplotlib.pyplot as plt\n",
    "from pylab import *\n",
    "import scipy\n",
    "from scipy.fftpack import fft,fftfreq, fftshift"
   ]
  },
  {
   "cell_type": "code",
   "execution_count": 2,
   "metadata": {
    "collapsed": true
   },
   "outputs": [],
   "source": [
    "#Se leyó el archivo separado en comas y se le asignaron nombre a las columnas\n",
    "df=pd.read_csv(\"FortPoint.csv\",parse_dates=['Date Time'],header=int(0))\n",
    "df.columns=['Date Time','Water Level','Sigma','O','F','R','L','Quality']"
   ]
  },
  {
   "cell_type": "code",
   "execution_count": 3,
   "metadata": {
    "collapsed": false
   },
   "outputs": [
    {
     "data": {
      "text/html": [
       "<div>\n",
       "<table border=\"1\" class=\"dataframe\">\n",
       "  <thead>\n",
       "    <tr style=\"text-align: right;\">\n",
       "      <th></th>\n",
       "      <th>Date Time</th>\n",
       "      <th>Water Level</th>\n",
       "      <th>Sigma</th>\n",
       "      <th>O</th>\n",
       "      <th>F</th>\n",
       "      <th>R</th>\n",
       "      <th>L</th>\n",
       "      <th>Quality</th>\n",
       "    </tr>\n",
       "  </thead>\n",
       "  <tbody>\n",
       "    <tr>\n",
       "      <th>7435</th>\n",
       "      <td>2016-04-26 23:30:00</td>\n",
       "      <td>0.792</td>\n",
       "      <td>0.009</td>\n",
       "      <td>0</td>\n",
       "      <td>0</td>\n",
       "      <td>0</td>\n",
       "      <td>0</td>\n",
       "      <td>v</td>\n",
       "    </tr>\n",
       "    <tr>\n",
       "      <th>7436</th>\n",
       "      <td>2016-04-26 23:36:00</td>\n",
       "      <td>0.763</td>\n",
       "      <td>0.005</td>\n",
       "      <td>0</td>\n",
       "      <td>0</td>\n",
       "      <td>0</td>\n",
       "      <td>0</td>\n",
       "      <td>v</td>\n",
       "    </tr>\n",
       "    <tr>\n",
       "      <th>7437</th>\n",
       "      <td>2016-04-26 23:42:00</td>\n",
       "      <td>0.721</td>\n",
       "      <td>0.009</td>\n",
       "      <td>0</td>\n",
       "      <td>0</td>\n",
       "      <td>0</td>\n",
       "      <td>0</td>\n",
       "      <td>v</td>\n",
       "    </tr>\n",
       "    <tr>\n",
       "      <th>7438</th>\n",
       "      <td>2016-04-26 23:48:00</td>\n",
       "      <td>0.674</td>\n",
       "      <td>0.005</td>\n",
       "      <td>0</td>\n",
       "      <td>0</td>\n",
       "      <td>0</td>\n",
       "      <td>0</td>\n",
       "      <td>v</td>\n",
       "    </tr>\n",
       "    <tr>\n",
       "      <th>7439</th>\n",
       "      <td>2016-04-26 23:54:00</td>\n",
       "      <td>0.654</td>\n",
       "      <td>0.005</td>\n",
       "      <td>0</td>\n",
       "      <td>0</td>\n",
       "      <td>0</td>\n",
       "      <td>0</td>\n",
       "      <td>v</td>\n",
       "    </tr>\n",
       "  </tbody>\n",
       "</table>\n",
       "</div>"
      ],
      "text/plain": [
       "               Date Time  Water Level  Sigma  O  F  R  L Quality\n",
       "7435 2016-04-26 23:30:00        0.792  0.009  0  0  0  0       v\n",
       "7436 2016-04-26 23:36:00        0.763  0.005  0  0  0  0       v\n",
       "7437 2016-04-26 23:42:00        0.721  0.009  0  0  0  0       v\n",
       "7438 2016-04-26 23:48:00        0.674  0.005  0  0  0  0       v\n",
       "7439 2016-04-26 23:54:00        0.654  0.005  0  0  0  0       v"
      ]
     },
     "execution_count": 3,
     "metadata": {},
     "output_type": "execute_result"
    }
   ],
   "source": [
    "#Se utilizará solo el valor absoluto del nivel del agua, se observa el final del archivo para ver cuantos datos contiene\n",
    "df1=df.loc[abs(df['Water Level']) < 0.09]\n",
    "df.tail()"
   ]
  },
  {
   "cell_type": "code",
   "execution_count": 4,
   "metadata": {
    "collapsed": false
   },
   "outputs": [
    {
     "data": {
      "image/png": "[encoded data removed]",
      "text/plain": [
       "<matplotlib.figure.Figure at 0x1e33de7b3c8>"
      ]
     },
     "metadata": {},
     "output_type": "display_data"
    }
   ],
   "source": [
    "#Ahora se aplica la función de la transformada de Fourier\n",
    "N_d = 7440\n",
    "T = 1.0\n",
    "y = df[\"Water Level\"] \n",
    "yf = fft(y)\n",
    "xf = fftfreq(N_d, T)\n",
    "xf = fftshift(xf)\n",
    "yplot = fftshift(yf)\n",
    "\n",
    "graf = plt.plot(xf, 2.0/N_d *abs(yplot))\n",
    "plt.xlim(-0.01,0.1)\n",
    "plt.grid(True)\n",
    "\n",
    "plt.xlabel('Frecuencia [1/hora]')\n",
    "plt.ylabel('Amplitud [m]')\n",
    "plt.title('Fort Point, New Hampshire')\n",
    "\n",
    "fig = plt.gcf()\n",
    "fig.set_size_inches(10, 5)\n",
    "plt.show()"
   ]
  },
  {
   "cell_type": "code",
   "execution_count": 6,
   "metadata": {
    "collapsed": false
   },
   "outputs": [
    {
     "name": "stdout",
     "output_type": "stream",
     "text": [
      "(array([   0,   59,   60,   62, 7378, 7380, 7381], dtype=int64),)\n"
     ]
    },
    {
     "data": {
      "text/plain": [
       "array([ 1.49825739,  0.22619249,  0.63253858,  0.08378883,  0.12706267,\n",
       "        0.12706267,  0.08378883,  0.63253858,  0.22619249])"
      ]
     },
     "execution_count": 6,
     "metadata": {},
     "output_type": "execute_result"
    }
   ],
   "source": [
    "#Se buscan algunos máximos\n",
    "a= np.absolute(yf/7440)\n",
    "a[a[:,] > 0.05]\n",
    "\n",
    "print(np.where(a[:,]>0.1))\n",
    "b= a[a[:,]>0.05]\n",
    "b"
   ]
  },
  {
   "cell_type": "code",
   "execution_count": 7,
   "metadata": {
    "collapsed": false
   },
   "outputs": [
    {
     "name": "stdout",
     "output_type": "stream",
     "text": [
      "Primer Armónico notorio\n",
      "Amplitud= 0.226192493208\n",
      "frecuencia= 0.00793010752688\n",
      "periodo= 126.101694915\n",
      "Segundo Armónico notorio\n",
      "Amplitud= 0.6325385831\n",
      "frecuencia= 0.00806451612903\n",
      "periodo= 124.0\n",
      "Tercer Armónico notorio\n",
      "Amplitud= 0.127062666561\n",
      "frecuencia= 0.00833333333333\n",
      "periodo= 120.0\n"
     ]
    }
   ],
   "source": [
    "#Resulta ser que hay tres valores cercanos (59, 60 y 62), así que se usarán esos.\n",
    "#Ahora buscaremos la amplitud, frecuencia y periodo de esos puntos\n",
    "print( 'Primer Armónico notorio')\n",
    "print('Amplitud=',np.absolute(yf[59,]/7440))\n",
    "print('frecuencia=', xf[int(3720+59),])\n",
    "print('periodo=', 1/xf[int(3720+59),])\n",
    "\n",
    "print('Segundo Armónico notorio')\n",
    "print('Amplitud=',np.absolute(yf[60,]/7440))\n",
    "print('frecuencia=', xf[int(3720+60),])\n",
    "print('periodo=', 1/xf[int(3720+60),])\n",
    "\n",
    "print('Tercer Armónico notorio')\n",
    "print('Amplitud=',np.absolute(yf[62,]/7440))\n",
    "print('frecuencia=', xf[int(3720+62),])\n",
    "print('periodo=', 1/xf[int(3720+62),])"
   ]
  },
  {
   "cell_type": "code",
   "execution_count": 8,
   "metadata": {
    "collapsed": false
   },
   "outputs": [
    {
     "data": {
      "image/png": "[encoded data removed]",
      "text/plain": [
       "<matplotlib.figure.Figure at 0x1e33f05e6a0>"
      ]
     },
     "metadata": {},
     "output_type": "display_data"
    }
   ],
   "source": [
    "#Por último se configura la gráfica y se muestra\n",
    "fig = plt.gcf()\n",
    "fig.set_size_inches(10, 5)\n",
    "\n",
    "\n",
    "graf = plt.plot(xf, 1.0/7440 *abs(yplot))\n",
    "plt.xlim(-0,0.01)\n",
    "plt.grid(True)\n",
    "\n",
    "plt.xlabel('Frecuencia [1/hora]')\n",
    "plt.ylabel('Amplitud [m]')\n",
    "plt.title('Fort Point, New Hampshire', fontsize=15)\n",
    "\n",
    "plt.text(0.00793010752688,0.226192493208, '$N_1$')\n",
    "plt.text(0.00806451612903,0.6325385831, '$N_2$')\n",
    "plt.text(0.00833333333333,0.127062666561, '$N_3$')\n",
    "\n",
    "\n",
    "plt.show()"
   ]
  },
  {
   "cell_type": "code",
   "execution_count": null,
   "metadata": {
    "collapsed": true
   },
   "outputs": [],
   "source": []
  }
 ],
 "metadata": {
  "kernelspec": {
   "display_name": "Python 3",
   "language": "python",
   "name": "python3"
  },
  "language_info": {
   "codemirror_mode": {
    "name": "ipython",
    "version": 3
   },
   "file_extension": ".py",
   "mimetype": "text/x-python",
   "name": "python",
   "nbconvert_exporter": "python",
   "pygments_lexer": "ipython3",
   "version": "3.6.0"
  }
 },
 "nbformat": 4,
 "nbformat_minor": 2
}
