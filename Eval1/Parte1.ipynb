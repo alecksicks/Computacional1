{
 "cells": [
  {
   "cell_type": "code",
   "execution_count": 41,
   "metadata": {
    "collapsed": false
   },
   "outputs": [],
   "source": [
    "import numpy as np\n",
    "import pandas as pd\n",
    "import matplotlib.pyplot as mplt\n",
    "import statsmodels.api as sm\n",
    "import pylab as plt\n",
    "from matplotlib import rc\n",
    "from pylab import figure, show, legend, xlabel, ylabel"
   ]
  },
  {
   "cell_type": "code",
   "execution_count": 2,
   "metadata": {
    "collapsed": true
   },
   "outputs": [],
   "source": [
    "df = pd.read_csv('GLB.Ts.csv',skiprows=[0,139])"
   ]
  },
  {
   "cell_type": "code",
   "execution_count": 3,
   "metadata": {
    "collapsed": false
   },
   "outputs": [
    {
     "data": {
      "text/plain": [
       "Index(['Year', 'Jan', 'Feb', 'Mar', 'Apr', 'May', 'Jun', 'Jul', 'Aug', 'Sep',\n",
       "       'Oct', 'Nov', 'Dec', 'J-D', 'D-N', 'DJF', 'MAM', 'JJA', 'SON'],\n",
       "      dtype='object')"
      ]
     },
     "execution_count": 3,
     "metadata": {},
     "output_type": "execute_result"
    }
   ],
   "source": [
    "df.columns"
   ]
  },
  {
   "cell_type": "code",
   "execution_count": 4,
   "metadata": {
    "collapsed": false
   },
   "outputs": [
    {
     "data": {
      "text/html": [
       "<div>\n",
       "<table border=\"1\" class=\"dataframe\">\n",
       "  <thead>\n",
       "    <tr style=\"text-align: right;\">\n",
       "      <th></th>\n",
       "      <th>Year</th>\n",
       "      <th>Jan</th>\n",
       "      <th>Feb</th>\n",
       "      <th>Mar</th>\n",
       "      <th>Apr</th>\n",
       "      <th>May</th>\n",
       "      <th>Jun</th>\n",
       "      <th>Jul</th>\n",
       "      <th>Aug</th>\n",
       "      <th>Sep</th>\n",
       "      <th>Oct</th>\n",
       "      <th>Nov</th>\n",
       "      <th>Dec</th>\n",
       "      <th>J-D</th>\n",
       "      <th>D-N</th>\n",
       "      <th>DJF</th>\n",
       "      <th>MAM</th>\n",
       "      <th>JJA</th>\n",
       "      <th>SON</th>\n",
       "    </tr>\n",
       "  </thead>\n",
       "  <tbody>\n",
       "    <tr>\n",
       "      <th>0</th>\n",
       "      <td>1880</td>\n",
       "      <td>-0.87</td>\n",
       "      <td>-0.49</td>\n",
       "      <td>-0.53</td>\n",
       "      <td>-0.69</td>\n",
       "      <td>-0.40</td>\n",
       "      <td>-0.52</td>\n",
       "      <td>-0.50</td>\n",
       "      <td>0.00</td>\n",
       "      <td>-0.55</td>\n",
       "      <td>-0.68</td>\n",
       "      <td>-0.54</td>\n",
       "      <td>-0.59</td>\n",
       "      <td>-0.53</td>\n",
       "      <td>***</td>\n",
       "      <td>***</td>\n",
       "      <td>-0.54</td>\n",
       "      <td>-0.34</td>\n",
       "      <td>-0.59</td>\n",
       "    </tr>\n",
       "    <tr>\n",
       "      <th>1</th>\n",
       "      <td>1881</td>\n",
       "      <td>-0.82</td>\n",
       "      <td>-0.67</td>\n",
       "      <td>-0.43</td>\n",
       "      <td>-0.33</td>\n",
       "      <td>-0.09</td>\n",
       "      <td>-1.15</td>\n",
       "      <td>-0.62</td>\n",
       "      <td>-0.32</td>\n",
       "      <td>-0.46</td>\n",
       "      <td>-0.62</td>\n",
       "      <td>-0.65</td>\n",
       "      <td>-0.21</td>\n",
       "      <td>-0.53</td>\n",
       "      <td>-.56</td>\n",
       "      <td>-.70</td>\n",
       "      <td>-0.28</td>\n",
       "      <td>-0.70</td>\n",
       "      <td>-0.58</td>\n",
       "    </tr>\n",
       "    <tr>\n",
       "      <th>2</th>\n",
       "      <td>1882</td>\n",
       "      <td>0.02</td>\n",
       "      <td>-0.22</td>\n",
       "      <td>-0.18</td>\n",
       "      <td>-0.67</td>\n",
       "      <td>-0.45</td>\n",
       "      <td>-1.07</td>\n",
       "      <td>-0.79</td>\n",
       "      <td>-0.19</td>\n",
       "      <td>-0.11</td>\n",
       "      <td>-0.39</td>\n",
       "      <td>-0.49</td>\n",
       "      <td>-0.75</td>\n",
       "      <td>-0.44</td>\n",
       "      <td>-.39</td>\n",
       "      <td>-.14</td>\n",
       "      <td>-0.43</td>\n",
       "      <td>-0.68</td>\n",
       "      <td>-0.33</td>\n",
       "    </tr>\n",
       "    <tr>\n",
       "      <th>3</th>\n",
       "      <td>1883</td>\n",
       "      <td>-0.77</td>\n",
       "      <td>-1.01</td>\n",
       "      <td>-0.58</td>\n",
       "      <td>-0.42</td>\n",
       "      <td>-0.46</td>\n",
       "      <td>0.29</td>\n",
       "      <td>-0.15</td>\n",
       "      <td>-0.29</td>\n",
       "      <td>-0.58</td>\n",
       "      <td>-0.67</td>\n",
       "      <td>-0.80</td>\n",
       "      <td>-0.51</td>\n",
       "      <td>-0.50</td>\n",
       "      <td>-.52</td>\n",
       "      <td>-.84</td>\n",
       "      <td>-0.49</td>\n",
       "      <td>-0.05</td>\n",
       "      <td>-0.68</td>\n",
       "    </tr>\n",
       "    <tr>\n",
       "      <th>4</th>\n",
       "      <td>1884</td>\n",
       "      <td>-0.62</td>\n",
       "      <td>-0.48</td>\n",
       "      <td>-0.60</td>\n",
       "      <td>-1.00</td>\n",
       "      <td>-1.26</td>\n",
       "      <td>-0.90</td>\n",
       "      <td>-0.97</td>\n",
       "      <td>0.02</td>\n",
       "      <td>-0.46</td>\n",
       "      <td>-0.86</td>\n",
       "      <td>-0.92</td>\n",
       "      <td>-1.07</td>\n",
       "      <td>-0.76</td>\n",
       "      <td>-.71</td>\n",
       "      <td>-.54</td>\n",
       "      <td>-0.95</td>\n",
       "      <td>-0.62</td>\n",
       "      <td>-0.75</td>\n",
       "    </tr>\n",
       "  </tbody>\n",
       "</table>\n",
       "</div>"
      ],
      "text/plain": [
       "   Year   Jan   Feb   Mar   Apr   May   Jun   Jul   Aug   Sep   Oct   Nov  \\\n",
       "0  1880 -0.87 -0.49 -0.53 -0.69 -0.40 -0.52 -0.50  0.00 -0.55 -0.68 -0.54   \n",
       "1  1881 -0.82 -0.67 -0.43 -0.33 -0.09 -1.15 -0.62 -0.32 -0.46 -0.62 -0.65   \n",
       "2  1882  0.02 -0.22 -0.18 -0.67 -0.45 -1.07 -0.79 -0.19 -0.11 -0.39 -0.49   \n",
       "3  1883 -0.77 -1.01 -0.58 -0.42 -0.46  0.29 -0.15 -0.29 -0.58 -0.67 -0.80   \n",
       "4  1884 -0.62 -0.48 -0.60 -1.00 -1.26 -0.90 -0.97  0.02 -0.46 -0.86 -0.92   \n",
       "\n",
       "    Dec   J-D   D-N   DJF   MAM   JJA   SON  \n",
       "0 -0.59 -0.53   ***   *** -0.54 -0.34 -0.59  \n",
       "1 -0.21 -0.53  -.56  -.70 -0.28 -0.70 -0.58  \n",
       "2 -0.75 -0.44  -.39  -.14 -0.43 -0.68 -0.33  \n",
       "3 -0.51 -0.50  -.52  -.84 -0.49 -0.05 -0.68  \n",
       "4 -1.07 -0.76  -.71  -.54 -0.95 -0.62 -0.75  "
      ]
     },
     "execution_count": 4,
     "metadata": {},
     "output_type": "execute_result"
    }
   ],
   "source": [
    "df.head(5)"
   ]
  },
  {
   "cell_type": "code",
   "execution_count": 15,
   "metadata": {
    "collapsed": false
   },
   "outputs": [
    {
     "data": {
      "text/plain": [
       "<matplotlib.text.Text at 0x29909103e80>"
      ]
     },
     "execution_count": 15,
     "metadata": {},
     "output_type": "execute_result"
    }
   ],
   "source": [
    "x=df[u'Year']\n",
    "y=df[u'J-D']\n",
    "plt.xlabel('Año')\n",
    "plt.ylabel('Variación de Temperatura (C)')\n",
    "plt.title('Anomalía de Temperatura Terrestre por Año')"
   ]
  },
  {
   "cell_type": "code",
   "execution_count": 29,
   "metadata": {
    "collapsed": false
   },
   "outputs": [
    {
     "data": {
      "image/png": "[encoded data removed]",
      "text/plain": [
       "<matplotlib.figure.Figure at 0x29908facd68>"
      ]
     },
     "metadata": {},
     "output_type": "display_data"
    }
   ],
   "source": [
    "mplt.grid(True)\n",
    "mplt.plot(x,y, color='black')\n",
    "plt.show()"
   ]
  },
  {
   "cell_type": "code",
   "execution_count": 7,
   "metadata": {
    "collapsed": true
   },
   "outputs": [],
   "source": [
    "def lowess(endog, exog, frac=1.0/3.0, it=3, delta=0.0, is_sorted=False, missing='drop', return_sorted=True):\n",
    "\n",
    "    endog = np.asarray(endog, float)\n",
    "    exog = np.asarray(exog, float)\n",
    "\n",
    "    # Inputs should be vectors (1-D arrays) of the\n",
    "    # same length.\n",
    "    if exog.ndim != 1:\n",
    "        raise ValueError('exog must be a vector')\n",
    "    if endog.ndim != 1:\n",
    "        raise ValueError('endog must be a vector')\n",
    "    if endog.shape[0] != exog.shape[0] :\n",
    "        raise ValueError('exog and endog must have same length')\n",
    "\n",
    "    if missing in ['drop', 'raise']:\n",
    "        # Cut out missing values\n",
    "        mask_valid = (np.isfinite(exog) & np.isfinite(endog))\n",
    "        all_valid = np.all(mask_valid)\n",
    "        if all_valid:\n",
    "            y = endog\n",
    "            x = exog\n",
    "        else:\n",
    "            if missing == 'drop':\n",
    "                x = exog[mask_valid]\n",
    "                y = endog[mask_valid]\n",
    "            else:\n",
    "                raise ValueError('nan or inf found in data')\n",
    "    elif missing == 'none':\n",
    "        y = endog\n",
    "        x = exog\n",
    "        all_valid = True   # we assume it's true if missing='none'\n",
    "    else:\n",
    "        raise ValueError(\"missing can only be 'none', 'drop' or 'raise'\")\n",
    "\n",
    "    if not is_sorted:\n",
    "        # Sort both inputs according to the ascending order of x values\n",
    "        sort_index = np.argsort(x)\n",
    "        x = np.array(x[sort_index])\n",
    "        y = np.array(y[sort_index])\n",
    "\n",
    "    res = _lowess(y, x, frac=frac, it=it, delta=delta)\n",
    "    _, yfitted = res.T\n",
    "\n",
    "    if return_sorted:\n",
    "        return res\n",
    "    else:\n",
    "        # rebuild yfitted with original indices\n",
    "        # a bit messy: y might have been selected twice\n",
    "        if not is_sorted:\n",
    "            yfitted_ = np.empty_like(y)\n",
    "            yfitted_.fill(np.nan)\n",
    "            yfitted_[sort_index] = yfitted\n",
    "            yfitted = yfitted_\n",
    "        else:\n",
    "            yfitted = yfitted\n",
    "\n",
    "        if not all_valid:\n",
    "            yfitted_ = np.empty_like(endog)\n",
    "            yfitted_.fill(np.nan)\n",
    "            yfitted_[mask_valid] = yfitted\n",
    "            yfitted = yfitted_\n",
    "\n",
    "        # we don't need to return exog anymore\n",
    "        return yfitted"
   ]
  },
  {
   "cell_type": "code",
   "execution_count": 60,
   "metadata": {
    "collapsed": false
   },
   "outputs": [],
   "source": [
    "Z = lowess(y, x, frac= 0.5, it=2)"
   ]
  },
  {
   "cell_type": "code",
   "execution_count": 61,
   "metadata": {
    "collapsed": false
   },
   "outputs": [
    {
     "data": {
      "text/plain": [
       "[<matplotlib.lines.Line2D at 0x299098d9e80>]"
      ]
     },
     "execution_count": 61,
     "metadata": {},
     "output_type": "execute_result"
    }
   ],
   "source": [
    "mplt.plot(Z[:,0],Z[:,1],color='red')"
   ]
  },
  {
   "cell_type": "code",
   "execution_count": 63,
   "metadata": {
    "collapsed": false
   },
   "outputs": [
    {
     "data": {
      "image/png": "[encoded data removed]",
      "text/plain": [
       "<matplotlib.figure.Figure at 0x2990953f390>"
      ]
     },
     "metadata": {},
     "output_type": "display_data"
    }
   ],
   "source": [
    "plt.show()"
   ]
  },
  {
   "cell_type": "code",
   "execution_count": 66,
   "metadata": {
    "collapsed": false
   },
   "outputs": [
    {
     "data": {
      "text/plain": [
       "[<matplotlib.lines.Line2D at 0x299099e9898>]"
      ]
     },
     "execution_count": 66,
     "metadata": {},
     "output_type": "execute_result"
    }
   ],
   "source": [
    "plt.xlabel('Año')\n",
    "plt.ylabel('Variación de Temperatura (C)')\n",
    "plt.title('Anomalía de Temperatura Terrestre por Año')\n",
    "mplt.plot(x,y, color='black')\n",
    "mplt.plot(Z[:,0],Z[:,1],color='red')"
   ]
  },
  {
   "cell_type": "code",
   "execution_count": 67,
   "metadata": {
    "collapsed": false
   },
   "outputs": [
    {
     "data": {
      "image/png": "[encoded data removed]",
      "text/plain": [
       "<matplotlib.figure.Figure at 0x29909289080>"
      ]
     },
     "metadata": {},
     "output_type": "display_data"
    }
   ],
   "source": [
    "plt.show()"
   ]
  },
  {
   "cell_type": "code",
   "execution_count": null,
   "metadata": {
    "collapsed": true
   },
   "outputs": [],
   "source": []
  }
 ],
 "metadata": {
  "kernelspec": {
   "display_name": "Python 3",
   "language": "python",
   "name": "python3"
  },
  "language_info": {
   "codemirror_mode": {
    "name": "ipython",
    "version": 3
   },
   "file_extension": ".py",
   "mimetype": "text/x-python",
   "name": "python",
   "nbconvert_exporter": "python",
   "pygments_lexer": "ipython3",
   "version": "3.6.0"
  }
 },
 "nbformat": 4,
 "nbformat_minor": 2
}
